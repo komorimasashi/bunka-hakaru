{
  "nbformat": 4,
  "nbformat_minor": 0,
  "metadata": {
    "colab": {
      "provenance": [],
      "include_colab_link": true
    },
    "kernelspec": {
      "name": "python3",
      "display_name": "Python 3"
    }
  },
  "cells": [
    {
      "cell_type": "markdown",
      "metadata": {
        "id": "view-in-github",
        "colab_type": "text"
      },
      "source": [
        "<a href=\"https://colab.research.google.com/github/komorimasashi/bunka-hakaru/blob/main/Py_correlation.ipynb\" target=\"_parent\"><img src=\"https://colab.research.google.com/assets/colab-badge.svg\" alt=\"Open In Colab\"/></a>"
      ]
    },
    {
      "cell_type": "markdown",
      "metadata": {
        "id": "1ycnh7C1BE8N"
      },
      "source": [
        "##相関係数"
      ]
    },
    {
      "cell_type": "markdown",
      "metadata": {
        "id": "3WMegQQbXKCo"
      },
      "source": [
        "###相関係数の定義"
      ]
    },
    {
      "cell_type": "markdown",
      "metadata": {
        "id": "eXerbWaeC5PB"
      },
      "source": [
        "相関係数(correlation coefficient)}は\n",
        "$\\begin{equation}\n",
        "r = \\frac{ S_{\\mathrm{xy}} }{ S_{\\mathrm{x}} S_{\\mathrm{y}} }\n",
        "\\end{equation}\n",
        "$で定義されます．\n",
        "\n",
        "\n",
        "ここで、$x$の分散(variance) $S_{\\mathrm{x}}^{2}$と$y$の分散$S_{\\mathrm{y}}^{2}$は\n",
        "\\begin{eqnarray}\n",
        "S_{\\mathrm{x}}^{2} &=& \\frac{1}{n} \\sum_{i=1}^{n} \\left( x_{i} - \\overline{x} \\right)^{2} = \\frac{1}{n} \\sum_{i=1}^{n} x_{i}^{2} - \\overline{x} ^{2} , \\\\\n",
        "S_{\\mathrm{y}}^{2} &=& \\frac{1}{n} \\sum_{i=1}^{n} \\left( y_{i} - \\overline{y} \\right)^{2} = \\frac{1}{n} \\sum_{i=1}^{n} y_{i}^{2} - \\overline{y} ^{2} \n",
        "\\end{eqnarray}\n",
        "\n",
        "と表され、$x$の平均(average) $\\overline{x}$と$y$の平均 $\\overline{y}$は\n",
        "\\begin{eqnarray}\n",
        "\\overline{x} &=& \\frac{1}{n} \\sum_{i=1}^{n} x_{i} \\\\\n",
        "\\overline{y} &=& \\frac{1}{n} \\sum_{i=1}^{n} y_{i}\n",
        "\\end{eqnarray}\n",
        "です．\n",
        "\n",
        "また，共分散(covariance) $S_{\\mathrm{xy}}$は\n",
        "\\begin{equation}\n",
        "S_{\\mathrm{xy}} = \\frac{1}{n} \\sum_{i=1}^{n} \\left( x_{i} - \\overline{x} \\right) \\left( y_{i} - \\overline{y} \\right) = \\frac{1}{n} \\sum_{i=1}^{n} x_{i} y_{i} - \\overline{x} \\overline{y}\n",
        "\\end{equation}\n",
        "です．\n",
        "\n",
        "\n",
        "$\\begin{equation}\n",
        "r = \\frac{ S_{\\mathrm{xy}} }{ S_{\\mathrm{x}} S_{\\mathrm{y}} }\n",
        "\\end{equation}\n",
        "$の分母は$x$の$S_{\\mathrm{x}}^{2}$と$y$の分散$S_{\\mathrm{y}}^{2}$それぞれの平方根であることに注意してください．"
      ]
    },
    {
      "cell_type": "markdown",
      "metadata": {
        "id": "dm3KHZu_BOFC"
      },
      "source": [
        "|$r$の範囲&nbsp;&nbsp;&nbsp;&nbsp;&nbsp;&nbsp;&nbsp;&nbsp;&nbsp;&nbsp;&nbsp;&nbsp;&nbsp;&nbsp;&nbsp;&nbsp;&nbsp;&nbsp;&nbsp;&nbsp;&nbsp;&nbsp;&nbsp;&nbsp;|相関の度合い|\n",
        "|---|---|\n",
        "|$-1 ≤ r < -0.7$|強い負の相関|\n",
        "|$-0.7 ≤ r < -0.4$|負の相関|\n",
        "|$-0.4 ≤ r < -0.2$|弱い負の相関|\n",
        "|$-0.2 ≤ r < 0.2$|相関がほとんどない|\n",
        "|$0.2 ≤ r < 0.4$|弱い正の相関|\n",
        "|$0.4 ≤ r < 0.7$|正の相関|\n",
        "|$0.7 ≤ r ≤ 1$|強い正の相関|"
      ]
    },
    {
      "cell_type": "markdown",
      "metadata": {
        "id": "17X7xtHbu-LR"
      },
      "source": [
        "###相関係数の計算の仕方"
      ]
    },
    {
      "cell_type": "markdown",
      "metadata": {
        "id": "cT6S1nY1u4wI"
      },
      "source": [
        "今一度，分散共分散行列\n",
        "$\n",
        "\\boldsymbol{\\Sigma}  = \n",
        "\\begin{pmatrix}\n",
        "1 & 0.8 \\\\ \n",
        "0.8 & 1\n",
        "\\end{pmatrix}\n",
        "$\n",
        "とした時の正規乱数の生成します\n",
        "これは相関係数$r=0.8$の状態です"
      ]
    },
    {
      "cell_type": "code",
      "metadata": {
        "id": "WeFUoNq7u8gH",
        "colab": {
          "base_uri": "https://localhost:8080/",
          "height": 496
        },
        "outputId": "fca20261-6ce3-400d-cca1-c13ed52246c0"
      },
      "source": [
        "import numpy as np \n",
        "from matplotlib import pyplot as plt\n",
        "import seaborn as sns\n",
        "\n",
        "mu = [0, 0]\n",
        "sigma = [[1, 0.8], [0.8, 1]]\n",
        " \n",
        "#　乱数発生のシード値の固定(乱数のシードの値を1に変えて実行してみよう)\n",
        "np.random.seed(0)\n",
        "\n",
        "# 2次元正規乱数を1000生成\n",
        "values = np.random.multivariate_normal(mu, sigma, 1000)\n",
        " \n",
        "# 散布図\n",
        "sns.jointplot(values[:,0], values[:,1], alpha=0.3)\n",
        "plt.title(\"r=0.8\")\n",
        "plt.show()"
      ],
      "execution_count": null,
      "outputs": [
        {
          "output_type": "stream",
          "name": "stderr",
          "text": [
            "/usr/local/lib/python3.7/dist-packages/seaborn/_decorators.py:43: FutureWarning: Pass the following variables as keyword args: x, y. From version 0.12, the only valid positional argument will be `data`, and passing other arguments without an explicit keyword will result in an error or misinterpretation.\n",
            "  FutureWarning\n"
          ]
        },
        {
          "output_type": "display_data",
          "data": {
            "text/plain": [
              "<Figure size 432x432 with 3 Axes>"
            ],
            "image/png": "[encoded data removed]"
          },
          "metadata": {
            "needs_background": "light"
          }
        }
      ]
    },
    {
      "cell_type": "code",
      "metadata": {
        "id": "EJ5d00mjr1aw",
        "colab": {
          "base_uri": "https://localhost:8080/"
        },
        "outputId": "ba73c48c-4c16-40ce-81f4-ad126fc1cf61"
      },
      "source": [
        "#numpyで相関係数を求める\n",
        "\n",
        "np.corrcoef(values[:,0], values[:,1])\n",
        "#ほぼ-0.8になっていることがわかる"
      ],
      "execution_count": null,
      "outputs": [
        {
          "output_type": "execute_result",
          "data": {
            "text/plain": [
              "array([[1.        , 0.79730636],\n",
              "       [0.79730636, 1.        ]])"
            ]
          },
          "metadata": {},
          "execution_count": 5
        }
      ]
    },
    {
      "cell_type": "code",
      "metadata": {
        "id": "8mGPHsfTsHad",
        "colab": {
          "base_uri": "https://localhost:8080/",
          "height": 112
        },
        "outputId": "9757744a-4a2b-4b6f-fdbc-3535c64bf64f"
      },
      "source": [
        "# Pandasで相関係数を求める\n",
        "import pandas as pd\n",
        "#相関係数pandas\n",
        "pd.DataFrame(values).corr()"
      ],
      "execution_count": null,
      "outputs": [
        {
          "output_type": "execute_result",
          "data": {
            "text/plain": [
              "          0         1\n",
              "0  1.000000  0.797306\n",
              "1  0.797306  1.000000"
            ],
            "text/html": [
              "\n",
              "  <div id=\"df-82734eea-eb7c-463f-820a-cd6d365d873d\">\n",
              "    <div class=\"colab-df-container\">\n",
              "      <div>\n",
              "<style scoped>\n",
              "    .dataframe tbody tr th:only-of-type {\n",
              "        vertical-align: middle;\n",
              "    }\n",
              "\n",
              "    .dataframe tbody tr th {\n",
              "        vertical-align: top;\n",
              "    }\n",
              "\n",
              "    .dataframe thead th {\n",
              "        text-align: right;\n",
              "    }\n",
              "</style>\n",
              "<table border=\"1\" class=\"dataframe\">\n",
              "  <thead>\n",
              "    <tr style=\"text-align: right;\">\n",
              "      <th></th>\n",
              "      <th>0</th>\n",
              "      <th>1</th>\n",
              "    </tr>\n",
              "  </thead>\n",
              "  <tbody>\n",
              "    <tr>\n",
              "      <th>0</th>\n",
              "      <td>1.000000</td>\n",
              "      <td>0.797306</td>\n",
              "    </tr>\n",
              "    <tr>\n",
              "      <th>1</th>\n",
              "      <td>0.797306</td>\n",
              "      <td>1.000000</td>\n",
              "    </tr>\n",
              "  </tbody>\n",
              "</table>\n",
              "</div>\n",
              "      <button class=\"colab-df-convert\" onclick=\"convertToInteractive('df-82734eea-eb7c-463f-820a-cd6d365d873d')\"\n",
              "              title=\"Convert this dataframe to an interactive table.\"\n",
              "              style=\"display:none;\">\n",
              "        \n",
              "  <svg xmlns=\"http://www.w3.org/2000/svg\" height=\"24px\"viewBox=\"0 0 24 24\"\n",
              "       width=\"24px\">\n",
              "    <path d=\"M0 0h24v24H0V0z\" fill=\"none\"/>\n",
              "    <path d=\"M18.56 5.44l.94 2.06.94-2.06 2.06-.94-2.06-.94-.94-2.06-.94 2.06-2.06.94zm-11 1L8.5 8.5l.94-2.06 2.06-.94-2.06-.94L8.5 2.5l-.94 2.06-2.06.94zm10 10l.94 2.06.94-2.06 2.06-.94-2.06-.94-.94-2.06-.94 2.06-2.06.94z\"/><path d=\"M17.41 7.96l-1.37-1.37c-.4-.4-.92-.59-1.43-.59-.52 0-1.04.2-1.43.59L10.3 9.45l-7.72 7.72c-.78.78-.78 2.05 0 2.83L4 21.41c.39.39.9.59 1.41.59.51 0 1.02-.2 1.41-.59l7.78-7.78 2.81-2.81c.8-.78.8-2.07 0-2.86zM5.41 20L4 18.59l7.72-7.72 1.47 1.35L5.41 20z\"/>\n",
              "  </svg>\n",
              "      </button>\n",
              "      \n",
              "  <style>\n",
              "    .colab-df-container {\n",
              "      display:flex;\n",
              "      flex-wrap:wrap;\n",
              "      gap: 12px;\n",
              "    }\n",
              "\n",
              "    .colab-df-convert {\n",
              "      background-color: #E8F0FE;\n",
              "      border: none;\n",
              "      border-radius: 50%;\n",
              "      cursor: pointer;\n",
              "      display: none;\n",
              "      fill: #1967D2;\n",
              "      height: 32px;\n",
              "      padding: 0 0 0 0;\n",
              "      width: 32px;\n",
              "    }\n",
              "\n",
              "    .colab-df-convert:hover {\n",
              "      background-color: #E2EBFA;\n",
              "      box-shadow: 0px 1px 2px rgba(60, 64, 67, 0.3), 0px 1px 3px 1px rgba(60, 64, 67, 0.15);\n",
              "      fill: #174EA6;\n",
              "    }\n",
              "\n",
              "    [theme=dark] .colab-df-convert {\n",
              "      background-color: #3B4455;\n",
              "      fill: #D2E3FC;\n",
              "    }\n",
              "\n",
              "    [theme=dark] .colab-df-convert:hover {\n",
              "      background-color: #434B5C;\n",
              "      box-shadow: 0px 1px 3px 1px rgba(0, 0, 0, 0.15);\n",
              "      filter: drop-shadow(0px 1px 2px rgba(0, 0, 0, 0.3));\n",
              "      fill: #FFFFFF;\n",
              "    }\n",
              "  </style>\n",
              "\n",
              "      <script>\n",
              "        const buttonEl =\n",
              "          document.querySelector('#df-82734eea-eb7c-463f-820a-cd6d365d873d button.colab-df-convert');\n",
              "        buttonEl.style.display =\n",
              "          google.colab.kernel.accessAllowed ? 'block' : 'none';\n",
              "\n",
              "        async function convertToInteractive(key) {\n",
              "          const element = document.querySelector('#df-82734eea-eb7c-463f-820a-cd6d365d873d');\n",
              "          const dataTable =\n",
              "            await google.colab.kernel.invokeFunction('convertToInteractive',\n",
              "                                                     [key], {});\n",
              "          if (!dataTable) return;\n",
              "\n",
              "          const docLinkHtml = 'Like what you see? Visit the ' +\n",
              "            '<a target=\"_blank\" href=https://colab.research.google.com/notebooks/data_table.ipynb>data table notebook</a>'\n",
              "            + ' to learn more about interactive tables.';\n",
              "          element.innerHTML = '';\n",
              "          dataTable['output_type'] = 'display_data';\n",
              "          await google.colab.output.renderOutput(dataTable, element);\n",
              "          const docLink = document.createElement('div');\n",
              "          docLink.innerHTML = docLinkHtml;\n",
              "          element.appendChild(docLink);\n",
              "        }\n",
              "      </script>\n",
              "    </div>\n",
              "  </div>\n",
              "  "
            ]
          },
          "metadata": {},
          "execution_count": 6
        }
      ]
    },
    {
      "cell_type": "code",
      "source": [
        "# 3変数の相関\n",
        "\n",
        "mu = [0, 0, 0]\n",
        "sigma = [[1, 0.8, 0.2], [0.8, 1, 0.5], [0.2, 0.5, 1]]\n",
        " \n",
        "#　乱数発生のシード値の固定(乱数のシードの値を1に変えて実行してみよう)\n",
        "np.random.seed(0)\n",
        "\n",
        "# 2次元正規乱数を1000生成\n",
        "values = np.random.multivariate_normal(mu, sigma, 1000)\n",
        "\n",
        "#相関係数pandas\n",
        "pd.DataFrame(values).corr()\n"
      ],
      "metadata": {
        "colab": {
          "base_uri": "https://localhost:8080/",
          "height": 143
        },
        "id": "xUYy6kyfY4SQ",
        "outputId": "e7660e86-7597-49cd-fdf5-cc55541d5327"
      },
      "execution_count": null,
      "outputs": [
        {
          "output_type": "execute_result",
          "data": {
            "text/plain": [
              "          0         1         2\n",
              "0  1.000000  0.795697  0.157946\n",
              "1  0.795697  1.000000  0.464871\n",
              "2  0.157946  0.464871  1.000000"
            ],
            "text/html": [
              "\n",
              "  <div id=\"df-0b8f4c88-426c-40a6-bda5-973b12e130cc\">\n",
              "    <div class=\"colab-df-container\">\n",
              "      <div>\n",
              "<style scoped>\n",
              "    .dataframe tbody tr th:only-of-type {\n",
              "        vertical-align: middle;\n",
              "    }\n",
              "\n",
              "    .dataframe tbody tr th {\n",
              "        vertical-align: top;\n",
              "    }\n",
              "\n",
              "    .dataframe thead th {\n",
              "        text-align: right;\n",
              "    }\n",
              "</style>\n",
              "<table border=\"1\" class=\"dataframe\">\n",
              "  <thead>\n",
              "    <tr style=\"text-align: right;\">\n",
              "      <th></th>\n",
              "      <th>0</th>\n",
              "      <th>1</th>\n",
              "      <th>2</th>\n",
              "    </tr>\n",
              "  </thead>\n",
              "  <tbody>\n",
              "    <tr>\n",
              "      <th>0</th>\n",
              "      <td>1.000000</td>\n",
              "      <td>0.795697</td>\n",
              "      <td>0.157946</td>\n",
              "    </tr>\n",
              "    <tr>\n",
              "      <th>1</th>\n",
              "      <td>0.795697</td>\n",
              "      <td>1.000000</td>\n",
              "      <td>0.464871</td>\n",
              "    </tr>\n",
              "    <tr>\n",
              "      <th>2</th>\n",
              "      <td>0.157946</td>\n",
              "      <td>0.464871</td>\n",
              "      <td>1.000000</td>\n",
              "    </tr>\n",
              "  </tbody>\n",
              "</table>\n",
              "</div>\n",
              "      <button class=\"colab-df-convert\" onclick=\"convertToInteractive('df-0b8f4c88-426c-40a6-bda5-973b12e130cc')\"\n",
              "              title=\"Convert this dataframe to an interactive table.\"\n",
              "              style=\"display:none;\">\n",
              "        \n",
              "  <svg xmlns=\"http://www.w3.org/2000/svg\" height=\"24px\"viewBox=\"0 0 24 24\"\n",
              "       width=\"24px\">\n",
              "    <path d=\"M0 0h24v24H0V0z\" fill=\"none\"/>\n",
              "    <path d=\"M18.56 5.44l.94 2.06.94-2.06 2.06-.94-2.06-.94-.94-2.06-.94 2.06-2.06.94zm-11 1L8.5 8.5l.94-2.06 2.06-.94-2.06-.94L8.5 2.5l-.94 2.06-2.06.94zm10 10l.94 2.06.94-2.06 2.06-.94-2.06-.94-.94-2.06-.94 2.06-2.06.94z\"/><path d=\"M17.41 7.96l-1.37-1.37c-.4-.4-.92-.59-1.43-.59-.52 0-1.04.2-1.43.59L10.3 9.45l-7.72 7.72c-.78.78-.78 2.05 0 2.83L4 21.41c.39.39.9.59 1.41.59.51 0 1.02-.2 1.41-.59l7.78-7.78 2.81-2.81c.8-.78.8-2.07 0-2.86zM5.41 20L4 18.59l7.72-7.72 1.47 1.35L5.41 20z\"/>\n",
              "  </svg>\n",
              "      </button>\n",
              "      \n",
              "  <style>\n",
              "    .colab-df-container {\n",
              "      display:flex;\n",
              "      flex-wrap:wrap;\n",
              "      gap: 12px;\n",
              "    }\n",
              "\n",
              "    .colab-df-convert {\n",
              "      background-color: #E8F0FE;\n",
              "      border: none;\n",
              "      border-radius: 50%;\n",
              "      cursor: pointer;\n",
              "      display: none;\n",
              "      fill: #1967D2;\n",
              "      height: 32px;\n",
              "      padding: 0 0 0 0;\n",
              "      width: 32px;\n",
              "    }\n",
              "\n",
              "    .colab-df-convert:hover {\n",
              "      background-color: #E2EBFA;\n",
              "      box-shadow: 0px 1px 2px rgba(60, 64, 67, 0.3), 0px 1px 3px 1px rgba(60, 64, 67, 0.15);\n",
              "      fill: #174EA6;\n",
              "    }\n",
              "\n",
              "    [theme=dark] .colab-df-convert {\n",
              "      background-color: #3B4455;\n",
              "      fill: #D2E3FC;\n",
              "    }\n",
              "\n",
              "    [theme=dark] .colab-df-convert:hover {\n",
              "      background-color: #434B5C;\n",
              "      box-shadow: 0px 1px 3px 1px rgba(0, 0, 0, 0.15);\n",
              "      filter: drop-shadow(0px 1px 2px rgba(0, 0, 0, 0.3));\n",
              "      fill: #FFFFFF;\n",
              "    }\n",
              "  </style>\n",
              "\n",
              "      <script>\n",
              "        const buttonEl =\n",
              "          document.querySelector('#df-0b8f4c88-426c-40a6-bda5-973b12e130cc button.colab-df-convert');\n",
              "        buttonEl.style.display =\n",
              "          google.colab.kernel.accessAllowed ? 'block' : 'none';\n",
              "\n",
              "        async function convertToInteractive(key) {\n",
              "          const element = document.querySelector('#df-0b8f4c88-426c-40a6-bda5-973b12e130cc');\n",
              "          const dataTable =\n",
              "            await google.colab.kernel.invokeFunction('convertToInteractive',\n",
              "                                                     [key], {});\n",
              "          if (!dataTable) return;\n",
              "\n",
              "          const docLinkHtml = 'Like what you see? Visit the ' +\n",
              "            '<a target=\"_blank\" href=https://colab.research.google.com/notebooks/data_table.ipynb>data table notebook</a>'\n",
              "            + ' to learn more about interactive tables.';\n",
              "          element.innerHTML = '';\n",
              "          dataTable['output_type'] = 'display_data';\n",
              "          await google.colab.output.renderOutput(dataTable, element);\n",
              "          const docLink = document.createElement('div');\n",
              "          docLink.innerHTML = docLinkHtml;\n",
              "          element.appendChild(docLink);\n",
              "        }\n",
              "      </script>\n",
              "    </div>\n",
              "  </div>\n",
              "  "
            ]
          },
          "metadata": {},
          "execution_count": 18
        }
      ]
    },
    {
      "cell_type": "markdown",
      "metadata": {
        "id": "jmbjG5VLmxKs"
      },
      "source": [
        "###乱数で生成した変数同士の相関"
      ]
    },
    {
      "cell_type": "markdown",
      "metadata": {
        "id": "RAkpUF42ux7Y"
      },
      "source": [
        "正規分布$\\mathcal{N} (\\mu,\\sigma^2)$に従う正規乱数を生成する関数として\n",
        "\n",
        "```\n",
        "numpy.random.normal(loc, scale, size)\n",
        "```\n",
        "が用意されています．これを使って多変量正規分布に従う乱数を発生させます\n",
        "\n",
        "\n",
        "*   loc: 生成したい正規分布の平均を指定(default=0)\n",
        "\n",
        "*   scale: 生成したい正規分布の標準偏差を指定(default=1)\n",
        "\n",
        "*   size: 生成する乱数の数を指定(default=None)\n",
        "\n",
        "\n",
        "\n"
      ]
    },
    {
      "cell_type": "markdown",
      "metadata": {
        "id": "CKdd-GdWvVW4"
      },
      "source": [
        "平均が\n",
        "$\n",
        "\\boldsymbol{\\mu}  = \n",
        "\\begin{pmatrix}\n",
        "0 \\\\\n",
        "0\\end{pmatrix}\n",
        "$ \n",
        "分散共分散行列\n",
        "$\n",
        "\\boldsymbol{\\Sigma}  = \n",
        "\\begin{pmatrix}\n",
        "1 & 1 \\\\ \n",
        "1 & 1\n",
        "\\end{pmatrix}\n",
        "$\n",
        "とした時の正規乱数の生成をするために下を実行します\n",
        "\n",
        "これは相関係数$r=1$の状態です"
      ]
    },
    {
      "cell_type": "code",
      "metadata": {
        "id": "Jlvyn0dyzTI3"
      },
      "source": [
        "import numpy as np \n",
        "from matplotlib import pyplot as plt\n",
        "import seaborn as sns\n",
        " \n",
        "mu = [0, 0]\n",
        "sigma = [[1, 1], [1, 1]]\n",
        " \n",
        "#　乱数発生のシード値の固定(乱数のシードの値を1に変えて実行してみよう)\n",
        "np.random.seed(0)\n",
        "\n",
        "# 2次元正規乱数を1000生成\n",
        "values = np.random.multivariate_normal(mu, sigma, 1000)\n",
        " \n",
        "# 散布図\n",
        "sns.jointplot(values[:,0], values[:,1], alpha=0.3)\n",
        "plt.title(\"r=1.0\")\n",
        "plt.show()"
      ],
      "execution_count": null,
      "outputs": []
    },
    {
      "cell_type": "code",
      "metadata": {
        "id": "foyf0P8bBCWQ"
      },
      "source": [
        "mu = [0, 0]\n",
        "sigma = [[1, 0.95], [0.95, 1]]\n",
        " \n",
        "#　乱数発生のシード値の固定(乱数のシードの値を1に変えて実行してみよう)\n",
        "np.random.seed(0)\n",
        "\n",
        "# 2次元正規乱数を1000生成\n",
        "values = np.random.multivariate_normal(mu, sigma, 1000)\n",
        " \n",
        "# 散布図\n",
        "sns.jointplot(values[:,0], values[:,1], alpha=0.3)\n",
        "plt.title(\"r=0.95\")\n",
        "plt.show()"
      ],
      "execution_count": null,
      "outputs": []
    },
    {
      "cell_type": "markdown",
      "metadata": {
        "id": "A-eCOP1A8HWN"
      },
      "source": [
        "次に，分散共分散行列\n",
        "$\n",
        "\\boldsymbol{\\Sigma}  = \n",
        "\\begin{pmatrix}\n",
        "1 & 0.8 \\\\ \n",
        "0.8 & 1\n",
        "\\end{pmatrix}\n",
        "$\n",
        "とした時の正規乱数の生成します\n",
        "これは相関係数$r=0.8$の状態です"
      ]
    },
    {
      "cell_type": "code",
      "metadata": {
        "id": "kieBtITd8HWQ"
      },
      "source": [
        "mu = [0, 0]\n",
        "sigma = [[1, 0.8], [0.8, 1]]\n",
        " \n",
        "#　乱数発生のシード値の固定(乱数のシードの値を1に変えて実行してみよう)\n",
        "np.random.seed(0)\n",
        "\n",
        "# 2次元正規乱数を1000生成\n",
        "values = np.random.multivariate_normal(mu, sigma, 1000)\n",
        " \n",
        "# 散布図\n",
        "sns.jointplot(values[:,0], values[:,1], alpha=0.3)\n",
        "plt.title(\"r=0.8\")\n",
        "plt.show()"
      ],
      "execution_count": null,
      "outputs": []
    },
    {
      "cell_type": "code",
      "metadata": {
        "id": "c5V2z6yLbeiw"
      },
      "source": [
        "mu = [0, 0]\n",
        "sigma = [[1, 0.5], [0.5, 1]]\n",
        " \n",
        "#　乱数発生のシード値の固定(乱数のシードの値を1に変えて実行してみよう)\n",
        "np.random.seed(0)\n",
        "\n",
        "# 2次元正規乱数を1000生成\n",
        "values = np.random.multivariate_normal(mu, sigma, 1000)\n",
        " \n",
        "# 散布図\n",
        "sns.jointplot(values[:,0], values[:,1], alpha=0.3)\n",
        "plt.title(\"r=0.5\")\n",
        "plt.show()"
      ],
      "execution_count": null,
      "outputs": []
    },
    {
      "cell_type": "markdown",
      "metadata": {
        "id": "Ymj9qWzcbGRN"
      },
      "source": []
    },
    {
      "cell_type": "code",
      "metadata": {
        "id": "Nhifsld7bJRs"
      },
      "source": [
        "mu = [0, 0]\n",
        "sigma = [[1, 0.3], [0.3, 1]]\n",
        " \n",
        "#　乱数発生のシード値の固定(乱数のシードの値を1に変えて実行してみよう)\n",
        "np.random.seed(0)\n",
        "\n",
        "# 2次元正規乱数を1000生成\n",
        "values = np.random.multivariate_normal(mu, sigma, 1000)\n",
        " \n",
        "# 散布図\n",
        "sns.jointplot(values[:,0], values[:,1], alpha=0.3)\n",
        "plt.title(\"r=0.3\")\n",
        "plt.show()"
      ],
      "execution_count": null,
      "outputs": []
    },
    {
      "cell_type": "markdown",
      "metadata": {
        "id": "fS6QKMDruRZL"
      },
      "source": [
        "次に，分散共分散行列\n",
        "$\n",
        "\\boldsymbol{\\Sigma}  = \n",
        "\\begin{pmatrix}\n",
        "1 & 0 \\\\ \n",
        "0 & 1\n",
        "\\end{pmatrix}\n",
        "$\n",
        "とした時の正規乱数の生成します\n",
        "\n",
        "これは「無相関」（$r=0$つまり独立）の状態です\n"
      ]
    },
    {
      "cell_type": "code",
      "metadata": {
        "id": "n6QuqGYA0HrC"
      },
      "source": [
        "mu = [0, 0]\n",
        "sigma = [[1, 0], [0, 1]]\n",
        " \n",
        "#　乱数発生のシード値の固定(乱数のシードの値を1に変えて実行してみよう)\n",
        "np.random.seed(0)\n",
        "\n",
        "# 2次元正規乱数を1000生成\n",
        "values = np.random.multivariate_normal(mu, sigma, 1000)\n",
        " \n",
        "# 散布図\n",
        "sns.jointplot(values[:,0], values[:,1], alpha=0.3)\n",
        "plt.title(\"r=0.0\")\n",
        "plt.show()"
      ],
      "execution_count": null,
      "outputs": []
    },
    {
      "cell_type": "markdown",
      "metadata": {
        "id": "T0_vNxNNzrro"
      },
      "source": [
        "次に，分散共分散行列\n",
        "$\n",
        "\\boldsymbol{\\Sigma}  = \n",
        "\\begin{pmatrix}\n",
        "1 & -0.8 \\\\ \n",
        "-0.8 & 1\n",
        "\\end{pmatrix}\n",
        "$\n",
        "とした時の正規乱数の生成します\n"
      ]
    },
    {
      "cell_type": "code",
      "metadata": {
        "id": "xM6Cj7_WuQu_"
      },
      "source": [
        "mu = [0, 0]\n",
        "sigma = [[1, -0.8], [-0.8, 1]]\n",
        " \n",
        "#　乱数発生のシード値の固定(乱数のシードの値を1に変えて実行してみよう)\n",
        "np.random.seed(0)\n",
        "\n",
        "# 2次元正規乱数を1000生成\n",
        "values = np.random.multivariate_normal(mu, sigma, 1000)\n",
        " \n",
        "# 散布図\n",
        "sns.jointplot(values[:,0], values[:,1], alpha=0.3)\n",
        "plt.title(\"r=-0.8\")\n",
        "plt.show()\n"
      ],
      "execution_count": null,
      "outputs": []
    },
    {
      "cell_type": "code",
      "metadata": {
        "id": "ua_tgpQicNlt"
      },
      "source": [
        "mu = [0, 0]\n",
        "sigma = [[1, -0.3], [-0.3, 1]]\n",
        " \n",
        "#　乱数発生のシード値の固定(乱数のシードの値を1に変えて実行してみよう)\n",
        "np.random.seed(0)\n",
        "\n",
        "# 2次元正規乱数を1000生成\n",
        "values = np.random.multivariate_normal(mu, sigma, 1000)\n",
        " \n",
        "# 散布図\n",
        "sns.jointplot(values[:,0], values[:,1], alpha=0.3)\n",
        "plt.title(\"r=-0.3\")\n",
        "plt.show()\n"
      ],
      "execution_count": null,
      "outputs": []
    }
  ]
}